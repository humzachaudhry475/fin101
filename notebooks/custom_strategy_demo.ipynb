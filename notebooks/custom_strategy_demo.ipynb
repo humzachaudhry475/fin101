{
 "cells": [
  {
   "cell_type": "markdown",
   "id": "47dff273",
   "metadata": {},
   "source": [
    "# Custom strategy end-to-end demo\n",
    "\n",
    "This notebook shows how to implement a simple trading strategy, run a vectorized backtest using the project's `Backtester`, inspect results, export detected trades, and create interactive visualizations. It's intended to be runnable inside this repository's virtual environment."
   ]
  },
  {
   "cell_type": "code",
   "execution_count": null,
   "id": "3486f87f",
   "metadata": {},
   "outputs": [],
   "source": [
    "# Environment & imports\n",
    "import sys\n",
    "from pathlib import Path\n",
    "# ensure project root is on sys.path so `from src...` works when running the notebook from the repo folder\n",
    "ROOT = Path('..').resolve()  # notebook is under notebooks/ -> project root is ..\n",
    "if str(ROOT) not in sys.path:\n",
    "    sys.path.insert(0, str(ROOT))\n",
    "\n",
    "import numpy as np\n",
    "import pandas as pd\n",
    "import matplotlib.pyplot as plt\n",
    "import seaborn as sns\n",
    "sns.set(style=\"darkgrid\")\n",
    "\n",
    "# optional interactive plotting (only used later)\n",
    "try:\n",
    "    import plotly.graph_objects as go\n",
    "    import plotly.io as pio\n",
    "    PLOTLY_AVAILABLE = True\n",
    "    pio.renderers.default = 'notebook'\n",
    "except Exception:\n",
    "    PLOTLY_AVAILABLE = False\n",
    "\n",
    "# project backtest utilities\n",
    "from src.backtest.data import download_sp500\n",
    "from src.backtest.engine import Backtester\n",
    "\n",
    "# reproducible seed for any random parts (not used heavily here)\n",
    "np.random.seed(42)"
   ]
  },
  {
   "cell_type": "markdown",
   "id": "2aa4ae93",
   "metadata": {},
   "source": [
    "## Load & inspect market data\n",
    "We use the built-in `download_sp500` helper to fetch S&P 500 OHLCV data via yfinance.\n",
    "We'll pick a multi-year slice for the demo."
   ]
  },
  {
   "cell_type": "code",
   "execution_count": null,
   "id": "341dfdf1",
   "metadata": {},
   "outputs": [],
   "source": [
    "start = '2018-01-01'\n",
    "end = '2020-12-31'\n",
    "print(f'Downloading S&P 500 data from {start} to {end} (this may hit the network)')\n",
    "df = download_sp500(start=start, end=end)\n",
    "print('columns:', df.columns.tolist())\n",
    "df_head = df.head()\n",
    "df_tail = df.tail()\n",
    "df_head"
   ]
  },
  {
   "cell_type": "markdown",
   "id": "9c87b8ba",
   "metadata": {},
   "source": [
    "## Preprocess & feature engineering\n",
    "Create a close series (prefer Adjusted Close), simple moving averages, returns, and a simple volatility measure."
   ]
  },
  {
   "cell_type": "code",
   "execution_count": null,
   "id": "dc14f1df",
   "metadata": {},
   "outputs": [],
   "source": [
    "# pick close/adj close robustly\n",
    "if 'Adj Close' in df.columns:\n",
    "    close = df['Adj Close'].copy()\n",
    "elif 'Close' in df.columns:\n",
    "    close = df['Close'].copy()\n",
    "else:\n",
    "    # fallback to first numeric column\n",
    "    numeric_cols = df.select_dtypes('number').columns\n",
    "    close = df[numeric_cols[0]].copy()\n",
    "\n",
    "data = pd.DataFrame({'close': close})\n",
    "data['ret'] = data['close'].pct_change()\n",
    "data['sma20'] = data['close'].rolling(20).mean()\n",
    "data['sma50'] = data['close'].rolling(50).mean()\n",
    "data['vol20'] = data['ret'].rolling(20).std()\n",
    "data.dropna(inplace=True)\n",
    "data.head()"
   ]
  },
  {
   "cell_type": "markdown",
   "id": "01459eca",
   "metadata": {},
   "source": [
    "## Define a custom strategy: BreakoutStrategy\n",
    "This simple strategy goes long when the close breaks above the rolling max over a lookback window (breakout). Signals are shifted by 1 to represent taking the position at the next bar."
   ]
  },
  {
   "cell_type": "code",
   "execution_count": null,
   "id": "1ddd5a94",
   "metadata": {},
   "outputs": [],
   "source": [
    "class BreakoutStrategy:\n",
    "    def __init__(self, lookback: int = 20):\n",
    "        if lookback < 1:\n",
    "            raise ValueError('lookback must be >= 1')\n",
    "        self.lookback = lookback\n",
    "\n",
    "    def generate_signals(self, prices: pd.Series) -> pd.Series:\n",
    "        # rolling max excluding the current bar (shift the rolling window by 1)\n",
    "        rolling_max = prices.rolling(self.lookback).max().shift(1)\n",
    "        signal = (prices > rolling_max).astype(int)\n",
    "        # shift again so position is applied on next bar (consistent with Backtester convention)\n",
    "        return signal.shift(1).fillna(0).astype(int)\n",
    "\n",
    "# small smoke test for the class\n",
    "prices_sample = data['close'].iloc[:100]\n",
    "strat = BreakoutStrategy(lookback=20)\n",
    "signals_sample = strat.generate_signals(prices_sample)\n",
    "print('Signals sample value counts:', signals_sample.value_counts().to_dict())"
   ]
  },
  {
   "cell_type": "code",
   "execution_count": null,
   "id": "05c8e2bb",
   "metadata": {},
   "outputs": [],
   "source": [
    "# Run a backtest using the project's Backtester (vectorized, uses close-to-close returns)\n",
    "bt = Backtester(data['close'])\n",
    "signals = strat.generate_signals(data['close'])\n",
    "res = bt.run(signals)\n",
    "print(f'cumulative return: {res.cumulative_return:.2%}')\n",
    "print(f'annualized return: {res.annualized_return:.2%}')\n",
    "print(f'max drawdown: {res.max_drawdown:.2%}')\n",
    "\n",
    "# simple equity plot\n",
    "plt.figure(figsize=(10, 4))\n",
    "res.equity.plot()\n",
    "plt.title('Strategy equity (growth of 1.0)')\n",
    "plt.xlabel('Date')\n",
    "plt.grid(True)\n",
    "plt.show()"
   ]
  },
  {
   "cell_type": "code",
   "execution_count": null,
   "id": "c10c02e0",
   "metadata": {},
   "outputs": [],
   "source": [
    "# Build trade log (detect 0->1 buys and 1->0 sells) and save CSV\n",
    "pos = signals.reindex(data.index).fillna(0).astype(int)\n",
    "trd = pos.diff().fillna(0)\n",
    "buys = trd[trd == 1].index\n",
    "sells = trd[trd == -1].index\n",
    "\n",
    "def get_exec_price(idx):\n",
    "    # try Open if available, otherwise close\n",
    "    if 'Open' in df.columns:\n",
    "        return df['Open'].reindex(idx).to_numpy()\n",
    "    return df['Adj Close' if 'Adj Close' in df.columns else 'Close'].reindex(idx).to_numpy()\n",
    "\n",
    "trade_rows = []\n",
    "for t in buys:\n",
    "    p = float(get_exec_price([t])[0])\n",
    "    trade_rows.append({'timestamp': t, 'side': 'buy', 'price': p, 'size': 1.0})\n",
    "for t in sells:\n",
    "    p = float(get_exec_price([t])[0])\n",
    "    trade_rows.append({'timestamp': t, 'side': 'sell', 'price': p, 'size': 1.0})\n",
    "\n",
    "trades_df = pd.DataFrame(trade_rows).sort_values('timestamp')\n",
    "out_dir = Path('../reports_output').resolve()\n",
    "out_dir.mkdir(parents=True, exist_ok=True)\n",
    "csv_path = out_dir / 'notebook_trades.csv'\n",
    "trades_df.to_csv(csv_path, index=False)\n",
    "print('Saved trades to:', csv_path)\n",
    "trades_df.head()"
   ]
  },
  {
   "cell_type": "code",
   "execution_count": null,
   "id": "eb3fd2f9",
   "metadata": {},
   "outputs": [],
   "source": [
    "# Interactive plot: use plotly if available, otherwise matplotlib fallback\n",
    "if PLOTLY_AVAILABLE:\n",
    "    fig = go.Figure()\n",
    "    fig.add_trace(go.Scatter(x=data.index, y=data['close'], mode='lines', name='Close'))\n",
    "    # add trade markers\n",
    "    if len(buys) > 0:\n",
    "        fig.add_trace(go.Scatter(x=buys, y=get_exec_price(buys), mode='markers', marker=dict(symbol='triangle-up', color='green', size=10), name='Buys', hovertemplate='%{x}<br>Buy: %{y:.2f}'))\n",
    "    if len(sells) > 0:\n",
    "        fig.add_trace(go.Scatter(x=sells, y=get_exec_price(sells), mode='markers', marker=dict(symbol='triangle-down', color='red', size=10), name='Sells', hovertemplate='%{x}<br>Sell: %{y:.2f}'))\n",
    "    fig.update_layout(title='Price with trades', xaxis_title='Date', yaxis_title='Price')\n",
    "    fig.show()\n",
    "else:\n",
    "    plt.figure(figsize=(12, 5))\n",
    "    plt.plot(data.index, data['close'], label='Close')\n",
    "    if len(buys) > 0:\n",
    "        plt.scatter(buys, get_exec_price(buys), marker='^', color='green', s=80, label='Buys')\n",
    "    if len(sells) > 0:\n",
    "        plt.scatter(sells, get_exec_price(sells), marker='v', color='red', s=80, label='Sells')\n",
    "    plt.legend()\n",
    "    plt.title('Price with trades (static)')\n",
    "    plt.show()"
   ]
  },
  {
   "cell_type": "markdown",
   "id": "d8fb0dc5",
   "metadata": {},
   "source": [
    "## Next steps\n",
    "- Tune the strategy hyperparameters (lookback, threshold).\n",
    "- Add transaction costs and slippage into the backtester.\n",
    "- Implement parameter grid search and walk-forward validation.\n",
    "- Replace the simple Backtester with a sizing-aware engine if you want variable position sizes.\n",
    "- Use interactive Plotly output inside Jupyter for cleaner exploration."
   ]
  }
 ],
 "metadata": {
  "language_info": {
   "name": "python"
  }
 },
 "nbformat": 4,
 "nbformat_minor": 5
}
